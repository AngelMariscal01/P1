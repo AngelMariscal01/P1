{
 "cells": [
  {
   "cell_type": "code",
   "execution_count": 2,
   "metadata": {},
   "outputs": [],
   "source": [
    "import gzip\n",
    "import ast\n",
    "import json\n",
    "import pandas as pd\n",
    "from datetime import datetime\n",
    "import nltk\n",
    "from nltk.sentiment.vader import SentimentIntensityAnalyzer"
   ]
  },
  {
   "cell_type": "code",
   "execution_count": 3,
   "metadata": {},
   "outputs": [],
   "source": [
    "def crearDFJSON(ruta):\n",
    "    data = []\n",
    "    with gzip.open(ruta, 'rb') as f:\n",
    "        for line in f:\n",
    "            data.append(json.loads(line))\n",
    "    f.close\n",
    "    return pd.DataFrame(data)\n",
    "\n",
    "def crearDFAST(ruta):\n",
    "    data = []\n",
    "    with gzip.open(ruta, 'rb') as f:\n",
    "        for line in f:\n",
    "            data.append(ast.literal_eval(line.decode('utf-8')))\n",
    "    f.close\n",
    "    return pd.DataFrame(data)\n",
    "\n",
    "def desanidarDF(df, columna):\n",
    "    df_desanidado = df.explode(columna)\n",
    "    return df_desanidado\n",
    "\n",
    "def desanidar(df, columna):\n",
    "    dfDesanidado = pd.json_normalize(df[columna])\n",
    "    df = df.reset_index(drop=True)\n",
    "    df = pd.concat([df, dfDesanidado], axis=1)\n",
    "    df = df.drop(columna, axis=1)\n",
    "    return df"
   ]
  },
  {
   "cell_type": "code",
   "execution_count": 4,
   "metadata": {},
   "outputs": [],
   "source": [
    "steamGamesDF = crearDFJSON('../data/steam_games.json.gz')\n",
    "userReviews = crearDFAST('../data/user_reviews.json.gz')"
   ]
  },
  {
   "cell_type": "code",
   "execution_count": 5,
   "metadata": {},
   "outputs": [],
   "source": [
    "steamGamesDF = steamGamesDF[['id', 'app_name', 'release_date']].dropna().drop_duplicates().reset_index(drop=True)"
   ]
  },
  {
   "cell_type": "code",
   "execution_count": 6,
   "metadata": {},
   "outputs": [],
   "source": [
    "steamGamesDF.columns = ['item_id', 'name', 'date']"
   ]
  },
  {
   "cell_type": "code",
   "execution_count": 7,
   "metadata": {},
   "outputs": [],
   "source": [
    "steamGamesDF['year'] = pd.to_datetime(steamGamesDF['date'], errors='coerce').dt.year\n",
    "    \n",
    "    # Eliminar filas con años no válidos\n",
    "steamGamesDF = steamGamesDF.dropna(subset=['year'])"
   ]
  },
  {
   "cell_type": "code",
   "execution_count": 8,
   "metadata": {},
   "outputs": [],
   "source": [
    "steamGamesDF = steamGamesDF.drop(['date'], axis=True)"
   ]
  },
  {
   "cell_type": "code",
   "execution_count": 9,
   "metadata": {},
   "outputs": [],
   "source": [
    "userReviews = desanidarDF(userReviews, 'reviews')\n",
    "userReviews = desanidar(userReviews, 'reviews')"
   ]
  },
  {
   "cell_type": "code",
   "execution_count": 10,
   "metadata": {},
   "outputs": [],
   "source": [
    "columnas_eliminar = ['user_url', 'funny', 'posted', 'last_edited', 'helpful']\n",
    "userReviews = userReviews.drop(columnas_eliminar, axis=1).reset_index(drop=True)"
   ]
  },
  {
   "cell_type": "code",
   "execution_count": 11,
   "metadata": {},
   "outputs": [],
   "source": [
    "userReviews = userReviews.dropna()"
   ]
  },
  {
   "cell_type": "code",
   "execution_count": 12,
   "metadata": {},
   "outputs": [],
   "source": [
    "userReviews = userReviews.drop_duplicates().reset_index(drop=True)"
   ]
  },
  {
   "cell_type": "code",
   "execution_count": 13,
   "metadata": {},
   "outputs": [
    {
     "name": "stderr",
     "output_type": "stream",
     "text": [
      "[nltk_data] Downloading package vader_lexicon to\n",
      "[nltk_data]     /home/konas/nltk_data...\n",
      "[nltk_data]   Package vader_lexicon is already up-to-date!\n"
     ]
    }
   ],
   "source": [
    "\n",
    "# Descargar los recursos necesarios para NLTK\n",
    "nltk.download('vader_lexicon')\n",
    "\n",
    "# Inicializar el analizador de sentimientos\n",
    "sid = SentimentIntensityAnalyzer()\n",
    "\n",
    "# Función para asignar el sentimiento a cada reseña\n",
    "def get_sentiment(review):\n",
    "    if pd.isnull(review):\n",
    "        return 1  # Valor neutral si no hay reseña\n",
    "    else:\n",
    "        scores = sid.polarity_scores(review)\n",
    "        compound_score = scores['compound']\n",
    "        if compound_score >= 0.05:\n",
    "            return 2  # Positivo\n",
    "        elif compound_score <= -0.05:\n",
    "            return 0  # Negativo\n",
    "        else:\n",
    "            return 1  # Neutral\n",
    "\n",
    "# Aplicar la función a la columna 'review' y crear la columna 'sentiment_analysis'\n",
    "userReviews['sentiment_analysis'] = userReviews['review'].apply(get_sentiment)"
   ]
  },
  {
   "cell_type": "code",
   "execution_count": 14,
   "metadata": {},
   "outputs": [],
   "source": [
    "userReviews = userReviews.drop(['review'], axis=True)"
   ]
  },
  {
   "cell_type": "code",
   "execution_count": 15,
   "metadata": {},
   "outputs": [
    {
     "data": {
      "text/html": [
       "<div>\n",
       "<style scoped>\n",
       "    .dataframe tbody tr th:only-of-type {\n",
       "        vertical-align: middle;\n",
       "    }\n",
       "\n",
       "    .dataframe tbody tr th {\n",
       "        vertical-align: top;\n",
       "    }\n",
       "\n",
       "    .dataframe thead th {\n",
       "        text-align: right;\n",
       "    }\n",
       "</style>\n",
       "<table border=\"1\" class=\"dataframe\">\n",
       "  <thead>\n",
       "    <tr style=\"text-align: right;\">\n",
       "      <th></th>\n",
       "      <th>user_id</th>\n",
       "      <th>item_id</th>\n",
       "      <th>recommend</th>\n",
       "      <th>sentiment_analysis</th>\n",
       "    </tr>\n",
       "  </thead>\n",
       "  <tbody>\n",
       "    <tr>\n",
       "      <th>0</th>\n",
       "      <td>76561197970982479</td>\n",
       "      <td>1250</td>\n",
       "      <td>True</td>\n",
       "      <td>2</td>\n",
       "    </tr>\n",
       "    <tr>\n",
       "      <th>1</th>\n",
       "      <td>76561197970982479</td>\n",
       "      <td>22200</td>\n",
       "      <td>True</td>\n",
       "      <td>2</td>\n",
       "    </tr>\n",
       "    <tr>\n",
       "      <th>2</th>\n",
       "      <td>76561197970982479</td>\n",
       "      <td>43110</td>\n",
       "      <td>True</td>\n",
       "      <td>2</td>\n",
       "    </tr>\n",
       "    <tr>\n",
       "      <th>3</th>\n",
       "      <td>js41637</td>\n",
       "      <td>251610</td>\n",
       "      <td>True</td>\n",
       "      <td>2</td>\n",
       "    </tr>\n",
       "    <tr>\n",
       "      <th>4</th>\n",
       "      <td>js41637</td>\n",
       "      <td>227300</td>\n",
       "      <td>True</td>\n",
       "      <td>2</td>\n",
       "    </tr>\n",
       "    <tr>\n",
       "      <th>...</th>\n",
       "      <td>...</td>\n",
       "      <td>...</td>\n",
       "      <td>...</td>\n",
       "      <td>...</td>\n",
       "    </tr>\n",
       "    <tr>\n",
       "      <th>58426</th>\n",
       "      <td>76561198312638244</td>\n",
       "      <td>70</td>\n",
       "      <td>True</td>\n",
       "      <td>2</td>\n",
       "    </tr>\n",
       "    <tr>\n",
       "      <th>58427</th>\n",
       "      <td>76561198312638244</td>\n",
       "      <td>362890</td>\n",
       "      <td>True</td>\n",
       "      <td>2</td>\n",
       "    </tr>\n",
       "    <tr>\n",
       "      <th>58428</th>\n",
       "      <td>LydiaMorley</td>\n",
       "      <td>273110</td>\n",
       "      <td>True</td>\n",
       "      <td>2</td>\n",
       "    </tr>\n",
       "    <tr>\n",
       "      <th>58429</th>\n",
       "      <td>LydiaMorley</td>\n",
       "      <td>730</td>\n",
       "      <td>True</td>\n",
       "      <td>2</td>\n",
       "    </tr>\n",
       "    <tr>\n",
       "      <th>58430</th>\n",
       "      <td>LydiaMorley</td>\n",
       "      <td>440</td>\n",
       "      <td>True</td>\n",
       "      <td>2</td>\n",
       "    </tr>\n",
       "  </tbody>\n",
       "</table>\n",
       "<p>58431 rows × 4 columns</p>\n",
       "</div>"
      ],
      "text/plain": [
       "                 user_id item_id recommend  sentiment_analysis\n",
       "0      76561197970982479    1250      True                   2\n",
       "1      76561197970982479   22200      True                   2\n",
       "2      76561197970982479   43110      True                   2\n",
       "3                js41637  251610      True                   2\n",
       "4                js41637  227300      True                   2\n",
       "...                  ...     ...       ...                 ...\n",
       "58426  76561198312638244      70      True                   2\n",
       "58427  76561198312638244  362890      True                   2\n",
       "58428        LydiaMorley  273110      True                   2\n",
       "58429        LydiaMorley     730      True                   2\n",
       "58430        LydiaMorley     440      True                   2\n",
       "\n",
       "[58431 rows x 4 columns]"
      ]
     },
     "execution_count": 15,
     "metadata": {},
     "output_type": "execute_result"
    }
   ],
   "source": [
    "userReviews"
   ]
  },
  {
   "cell_type": "code",
   "execution_count": 16,
   "metadata": {},
   "outputs": [],
   "source": [
    "userReviews.columns = ['user_id', 'item_id', 'recommend', 'sentiment_analysis']"
   ]
  },
  {
   "cell_type": "code",
   "execution_count": 17,
   "metadata": {},
   "outputs": [],
   "source": [
    "merged_df = pd.merge(userReviews, steamGamesDF, left_on='item_id', right_on='item_id', how='left')"
   ]
  },
  {
   "cell_type": "code",
   "execution_count": 18,
   "metadata": {},
   "outputs": [],
   "source": [
    "merged_df = merged_df.dropna(subset=['year']).reset_index(drop=True)"
   ]
  },
  {
   "cell_type": "code",
   "execution_count": 19,
   "metadata": {},
   "outputs": [],
   "source": [
    "columnas_eliminar = ['user_id','item_id']\n",
    "merged_df = merged_df.drop(columnas_eliminar, axis=1).reset_index(drop=True)"
   ]
  },
  {
   "cell_type": "code",
   "execution_count": 20,
   "metadata": {},
   "outputs": [
    {
     "data": {
      "text/html": [
       "<div>\n",
       "<style scoped>\n",
       "    .dataframe tbody tr th:only-of-type {\n",
       "        vertical-align: middle;\n",
       "    }\n",
       "\n",
       "    .dataframe tbody tr th {\n",
       "        vertical-align: top;\n",
       "    }\n",
       "\n",
       "    .dataframe thead th {\n",
       "        text-align: right;\n",
       "    }\n",
       "</style>\n",
       "<table border=\"1\" class=\"dataframe\">\n",
       "  <thead>\n",
       "    <tr style=\"text-align: right;\">\n",
       "      <th></th>\n",
       "      <th>recommend</th>\n",
       "      <th>sentiment_analysis</th>\n",
       "      <th>name</th>\n",
       "      <th>year</th>\n",
       "    </tr>\n",
       "  </thead>\n",
       "  <tbody>\n",
       "    <tr>\n",
       "      <th>0</th>\n",
       "      <td>True</td>\n",
       "      <td>2</td>\n",
       "      <td>Killing Floor</td>\n",
       "      <td>2009.0</td>\n",
       "    </tr>\n",
       "    <tr>\n",
       "      <th>1</th>\n",
       "      <td>True</td>\n",
       "      <td>2</td>\n",
       "      <td>Zeno Clash</td>\n",
       "      <td>2009.0</td>\n",
       "    </tr>\n",
       "    <tr>\n",
       "      <th>2</th>\n",
       "      <td>True</td>\n",
       "      <td>2</td>\n",
       "      <td>Euro Truck Simulator 2</td>\n",
       "      <td>2013.0</td>\n",
       "    </tr>\n",
       "    <tr>\n",
       "      <th>3</th>\n",
       "      <td>True</td>\n",
       "      <td>2</td>\n",
       "      <td>Papers, Please</td>\n",
       "      <td>2013.0</td>\n",
       "    </tr>\n",
       "    <tr>\n",
       "      <th>4</th>\n",
       "      <td>True</td>\n",
       "      <td>2</td>\n",
       "      <td>Risk of Rain</td>\n",
       "      <td>2013.0</td>\n",
       "    </tr>\n",
       "    <tr>\n",
       "      <th>...</th>\n",
       "      <td>...</td>\n",
       "      <td>...</td>\n",
       "      <td>...</td>\n",
       "      <td>...</td>\n",
       "    </tr>\n",
       "    <tr>\n",
       "      <th>49614</th>\n",
       "      <td>True</td>\n",
       "      <td>2</td>\n",
       "      <td>Half-Life</td>\n",
       "      <td>1998.0</td>\n",
       "    </tr>\n",
       "    <tr>\n",
       "      <th>49615</th>\n",
       "      <td>True</td>\n",
       "      <td>2</td>\n",
       "      <td>Black Mesa</td>\n",
       "      <td>2015.0</td>\n",
       "    </tr>\n",
       "    <tr>\n",
       "      <th>49616</th>\n",
       "      <td>True</td>\n",
       "      <td>2</td>\n",
       "      <td>Counter-Strike Nexon: Zombies</td>\n",
       "      <td>2014.0</td>\n",
       "    </tr>\n",
       "    <tr>\n",
       "      <th>49617</th>\n",
       "      <td>True</td>\n",
       "      <td>2</td>\n",
       "      <td>Counter-Strike: Global Offensive</td>\n",
       "      <td>2012.0</td>\n",
       "    </tr>\n",
       "    <tr>\n",
       "      <th>49618</th>\n",
       "      <td>True</td>\n",
       "      <td>2</td>\n",
       "      <td>Team Fortress 2</td>\n",
       "      <td>2007.0</td>\n",
       "    </tr>\n",
       "  </tbody>\n",
       "</table>\n",
       "<p>49619 rows × 4 columns</p>\n",
       "</div>"
      ],
      "text/plain": [
       "      recommend  sentiment_analysis                              name    year\n",
       "0          True                   2                     Killing Floor  2009.0\n",
       "1          True                   2                        Zeno Clash  2009.0\n",
       "2          True                   2            Euro Truck Simulator 2  2013.0\n",
       "3          True                   2                    Papers, Please  2013.0\n",
       "4          True                   2                      Risk of Rain  2013.0\n",
       "...         ...                 ...                               ...     ...\n",
       "49614      True                   2                         Half-Life  1998.0\n",
       "49615      True                   2                        Black Mesa  2015.0\n",
       "49616      True                   2     Counter-Strike Nexon: Zombies  2014.0\n",
       "49617      True                   2  Counter-Strike: Global Offensive  2012.0\n",
       "49618      True                   2                   Team Fortress 2  2007.0\n",
       "\n",
       "[49619 rows x 4 columns]"
      ]
     },
     "execution_count": 20,
     "metadata": {},
     "output_type": "execute_result"
    }
   ],
   "source": [
    "merged_df"
   ]
  },
  {
   "cell_type": "code",
   "execution_count": 21,
   "metadata": {},
   "outputs": [],
   "source": [
    "merged_df.to_parquet('UsersRecommendParquet.parquet', index=False)"
   ]
  },
  {
   "cell_type": "code",
   "execution_count": 22,
   "metadata": {},
   "outputs": [],
   "source": [
    "def UsersRecommend(año, df):\n",
    "    # Filtrar los datos según el año dado\n",
    "    datos_año = df[df['year'].astype(int) == año]\n",
    "    \n",
    "    # Seleccionar solo las filas donde recommend sea True y sentiment_analysis sea 2 o 1\n",
    "    recomendados = datos_año[(datos_año['recommend'] == True) & (datos_año['sentiment_analysis'].isin([1, 2]))]\n",
    "    \n",
    "    # Contar el número de recomendaciones para cada juego\n",
    "    conteo_recomendaciones = recomendados['name'].value_counts()\n",
    "\n",
    "    # Convertir el objeto zip en una lista y luego ordenar los juegos según el número de recomendaciones en orden descendente\n",
    "    juegos_ordenados = list(conteo_recomendaciones.items())\n",
    "    \n",
    "    # Seleccionar los tres primeros juegos\n",
    "    top_3 = [{\"Puesto {}\".format(i+1): juego[0]} for i, juego in enumerate(juegos_ordenados[:3])]\n",
    "    \n",
    "    return top_3"
   ]
  },
  {
   "cell_type": "code",
   "execution_count": 23,
   "metadata": {},
   "outputs": [
    {
     "name": "stdout",
     "output_type": "stream",
     "text": [
      "[{'Puesto 1': 'Call of Duty: World at War'}, {'Puesto 2': 'AudioSurf'}, {'Puesto 3': 'SPORE™'}]\n"
     ]
    }
   ],
   "source": [
    "year = 2008  # Año dado\n",
    "top_games = UsersRecommend(year, merged_df)\n",
    "print(top_games)"
   ]
  },
  {
   "cell_type": "code",
   "execution_count": 24,
   "metadata": {},
   "outputs": [],
   "source": [
    "def UsersNotRecommend(año, df):\n",
    "    # Filtrar los datos según el año dado\n",
    "    datos_año = df[df['year'].astype(int) == año]\n",
    "    \n",
    "    # Seleccionar solo las filas donde recommend sea True y sentiment_analysis sea 2 o 1\n",
    "    recomendados = datos_año[(datos_año['recommend'] == False) & (datos_año['sentiment_analysis'].isin([0]))]\n",
    "\n",
    "    # Contar el número de recomendaciones para cada juego\n",
    "    conteo_recomendaciones = recomendados['name'].value_counts()\n",
    "    \n",
    "    # Convertir el objeto zip en una lista y luego ordenar los juegos según el número de recomendaciones en orden descendente\n",
    "    juegos_ordenados = list(conteo_recomendaciones.items())\n",
    "    \n",
    "    # Seleccionar los tres primeros juegos\n",
    "    top_3 = [{\"Puesto {}\".format(i+1): juego[0]} for i, juego in enumerate(juegos_ordenados[:3])]\n",
    "    \n",
    "    return top_3"
   ]
  },
  {
   "cell_type": "code",
   "execution_count": 25,
   "metadata": {},
   "outputs": [
    {
     "name": "stdout",
     "output_type": "stream",
     "text": [
      "[{'Puesto 1': \"Far Cry® 2: Fortune's Edition\"}, {'Puesto 2': 'SPORE™'}, {'Puesto 3': 'X3: Terran Conflict'}]\n"
     ]
    }
   ],
   "source": [
    "year = 2008  # Año dado\n",
    "bottom_games = UsersNotRecommend(year, merged_df)\n",
    "print(bottom_games)"
   ]
  },
  {
   "cell_type": "code",
   "execution_count": 26,
   "metadata": {},
   "outputs": [],
   "source": [
    "def sentiment_analysis(year: int):\n",
    "    # Filtrar el DataFrame por el año proporcionado\n",
    "    df_filtered = merged_df[merged_df['year'] == year]\n",
    "    print(df_filtered.count())\n",
    "    # Contar la cantidad de registros por cada categoría de análisis de sentimiento\n",
    "    sentiment_counts = df_filtered['sentiment_analysis'].value_counts()\n",
    "    \n",
    "    # Mapear los valores numéricos de la categoría de análisis de sentimiento a sus respectivos nombres\n",
    "    sentiment_mapping = {2: 'Positive', 1: 'Neutral', 0: 'Negative'}\n",
    "    \n",
    "    # Crear el diccionario de retorno con los valores mapeados\n",
    "    return {sentiment_mapping[key]: value for key, value in sentiment_counts.items()}\n",
    "\n",
    "    "
   ]
  },
  {
   "cell_type": "code",
   "execution_count": 27,
   "metadata": {},
   "outputs": [
    {
     "name": "stdout",
     "output_type": "stream",
     "text": [
      "recommend             1978\n",
      "sentiment_analysis    1978\n",
      "name                  1978\n",
      "year                  1978\n",
      "dtype: int64\n",
      "{'Positive': 1311, 'Neutral': 357, 'Negative': 310}\n"
     ]
    }
   ],
   "source": [
    "year = 2010  # Año dado\n",
    "print(sentiment_analysis(year))"
   ]
  }
 ],
 "metadata": {
  "kernelspec": {
   "display_name": "venv",
   "language": "python",
   "name": "python3"
  },
  "language_info": {
   "codemirror_mode": {
    "name": "ipython",
    "version": 3
   },
   "file_extension": ".py",
   "mimetype": "text/x-python",
   "name": "python",
   "nbconvert_exporter": "python",
   "pygments_lexer": "ipython3",
   "version": "3.10.12"
  }
 },
 "nbformat": 4,
 "nbformat_minor": 2
}
